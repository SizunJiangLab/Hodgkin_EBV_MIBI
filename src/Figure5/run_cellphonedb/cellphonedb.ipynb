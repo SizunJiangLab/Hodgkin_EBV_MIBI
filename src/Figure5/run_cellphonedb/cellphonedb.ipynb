{
 "cells": [
  {
   "cell_type": "code",
   "execution_count": 1,
   "metadata": {},
   "outputs": [],
   "source": [
    "import pandas as pd\n",
    "import anndata\n",
    "import os"
   ]
  },
  {
   "cell_type": "code",
   "execution_count": 2,
   "metadata": {},
   "outputs": [
    {
     "data": {
      "text/html": [
       "<table class=\"striped\"><tr><th style=\"text-align:center\">Version</th><th style=\"text-align:center\">Release date</th></tr><td style=\"text-align:center\"><a class=\"teal-text\" href=\"https://github.com/ventolab/cellphonedb-data/releases/tag/v5.0.0\">v5.0.0</a></td><td style=\"text-align:center\">2023-10-31</td></tr><tr><td style=\"text-align:center\"><a class=\"teal-text\" href=\"https://github.com/ventolab/cellphonedb-data/releases/tag/v4.1.0\">v4.1.0</a></td><td style=\"text-align:center\">2023-03-09</td></tr><tr><tr><tr></table>"
      ],
      "text/plain": [
       "<IPython.core.display.HTML object>"
      ]
     },
     "metadata": {},
     "output_type": "display_data"
    }
   ],
   "source": [
    "# generate user-specific custom database\n",
    "from IPython.display import HTML, display\n",
    "from cellphonedb.utils import db_releases_utils\n",
    "\n",
    "display(HTML(db_releases_utils.get_remote_database_versions_html()['db_releases_html_table']))"
   ]
  },
  {
   "cell_type": "code",
   "execution_count": 7,
   "metadata": {},
   "outputs": [
    {
     "name": "stdout",
     "output_type": "stream",
     "text": [
      "Downloaded cellphonedb.zip into /mnt/nfs/home/jasonyeung/cHL_EBV/run_cellphonedb/v5.0.0\n",
      "Downloaded complex_input.csv into /mnt/nfs/home/jasonyeung/cHL_EBV/run_cellphonedb/v5.0.0\n",
      "Downloaded gene_input.csv into /mnt/nfs/home/jasonyeung/cHL_EBV/run_cellphonedb/v5.0.0\n",
      "Downloaded interaction_input.csv into /mnt/nfs/home/jasonyeung/cHL_EBV/run_cellphonedb/v5.0.0\n",
      "Downloaded protein_input.csv into /mnt/nfs/home/jasonyeung/cHL_EBV/run_cellphonedb/v5.0.0\n",
      "Downloaded uniprot_synonyms.tsv into /mnt/nfs/home/jasonyeung/cHL_EBV/run_cellphonedb/v5.0.0/sources\n",
      "Downloaded transcription_factor_input.csv into /mnt/nfs/home/jasonyeung/cHL_EBV/run_cellphonedb/v5.0.0/sources\n"
     ]
    }
   ],
   "source": [
    "# -- Version of the databse\n",
    "cpdb_version = 'v5.0.0'\n",
    "\n",
    "# -- Path where the input files to generate the database are located\n",
    "cpdb_target_dir = os.path.join('/mnt/nfs/home/jasonyeung/cHL_EBV/run_cellphonedb/', cpdb_version)\n",
    "\n",
    "from cellphonedb.utils import db_utils\n",
    "\n",
    "db_utils.download_database(cpdb_target_dir, cpdb_version)"
   ]
  },
  {
   "cell_type": "code",
   "execution_count": 8,
   "metadata": {},
   "outputs": [],
   "source": [
    "# input paths\n",
    "cpdb_file_path = '/mnt/nfs/home/jasonyeung/cHL_EBV/run_cellphonedb/v5.0.0/cellphonedb.zip'\n",
    "out_path = '/mnt/nfs/home/jasonyeung/cHL_EBV/run_cellphonedb/outputs'\n",
    "microenvs_file_path = '/mnt/nfs/home/jasonyeung/cHL_EBV/run_cellphonedb/microenvs.csv'\n",
    "meta_file_path = '/mnt/nfs/home/jasonyeung/cHL_EBV/run_cellphonedb/mdata.csv'\n",
    "counts_file_path = '/mnt/nfs/home/jasonyeung/cHL_EBV/run_cellphonedb/batchcorrected_counts.h5ad'"
   ]
  },
  {
   "cell_type": "code",
   "execution_count": 9,
   "metadata": {},
   "outputs": [
    {
     "data": {
      "text/html": [
       "<div>\n",
       "<style scoped>\n",
       "    .dataframe tbody tr th:only-of-type {\n",
       "        vertical-align: middle;\n",
       "    }\n",
       "\n",
       "    .dataframe tbody tr th {\n",
       "        vertical-align: top;\n",
       "    }\n",
       "\n",
       "    .dataframe thead th {\n",
       "        text-align: right;\n",
       "    }\n",
       "</style>\n",
       "<table border=\"1\" class=\"dataframe\">\n",
       "  <thead>\n",
       "    <tr style=\"text-align: right;\">\n",
       "      <th></th>\n",
       "      <th>Cell</th>\n",
       "      <th>cell_type</th>\n",
       "    </tr>\n",
       "  </thead>\n",
       "  <tbody>\n",
       "    <tr>\n",
       "      <th>0</th>\n",
       "      <td>DSP-1001660020890-A-A02</td>\n",
       "      <td>EBV+_Tumor</td>\n",
       "    </tr>\n",
       "    <tr>\n",
       "      <th>1</th>\n",
       "      <td>DSP-1001660020890-A-A03</td>\n",
       "      <td>EBV+_CD4mem</td>\n",
       "    </tr>\n",
       "    <tr>\n",
       "      <th>2</th>\n",
       "      <td>DSP-1001660020890-A-A04</td>\n",
       "      <td>EBV+_CD4naive</td>\n",
       "    </tr>\n",
       "    <tr>\n",
       "      <th>3</th>\n",
       "      <td>DSP-1001660020890-A-A05</td>\n",
       "      <td>EBV+_CD8mem</td>\n",
       "    </tr>\n",
       "    <tr>\n",
       "      <th>4</th>\n",
       "      <td>DSP-1001660020890-A-A06</td>\n",
       "      <td>EBV+_CD8naive</td>\n",
       "    </tr>\n",
       "    <tr>\n",
       "      <th>...</th>\n",
       "      <td>...</td>\n",
       "      <td>...</td>\n",
       "    </tr>\n",
       "    <tr>\n",
       "      <th>726</th>\n",
       "      <td>DSP-1001660018928-H-F09</td>\n",
       "      <td>EBV+_CD4mem</td>\n",
       "    </tr>\n",
       "    <tr>\n",
       "      <th>727</th>\n",
       "      <td>DSP-1001660018928-H-F10</td>\n",
       "      <td>EBV+_CD4naive</td>\n",
       "    </tr>\n",
       "    <tr>\n",
       "      <th>728</th>\n",
       "      <td>DSP-1001660018928-H-F11</td>\n",
       "      <td>EBV+_CD8mem</td>\n",
       "    </tr>\n",
       "    <tr>\n",
       "      <th>729</th>\n",
       "      <td>DSP-1001660018928-H-F12</td>\n",
       "      <td>EBV+_CD8naive</td>\n",
       "    </tr>\n",
       "    <tr>\n",
       "      <th>730</th>\n",
       "      <td>DSP-1001660018928-H-G01</td>\n",
       "      <td>EBV+_Other</td>\n",
       "    </tr>\n",
       "  </tbody>\n",
       "</table>\n",
       "<p>731 rows × 2 columns</p>\n",
       "</div>"
      ],
      "text/plain": [
       "                        Cell      cell_type\n",
       "0    DSP-1001660020890-A-A02     EBV+_Tumor\n",
       "1    DSP-1001660020890-A-A03    EBV+_CD4mem\n",
       "2    DSP-1001660020890-A-A04  EBV+_CD4naive\n",
       "3    DSP-1001660020890-A-A05    EBV+_CD8mem\n",
       "4    DSP-1001660020890-A-A06  EBV+_CD8naive\n",
       "..                       ...            ...\n",
       "726  DSP-1001660018928-H-F09    EBV+_CD4mem\n",
       "727  DSP-1001660018928-H-F10  EBV+_CD4naive\n",
       "728  DSP-1001660018928-H-F11    EBV+_CD8mem\n",
       "729  DSP-1001660018928-H-F12  EBV+_CD8naive\n",
       "730  DSP-1001660018928-H-G01     EBV+_Other\n",
       "\n",
       "[731 rows x 2 columns]"
      ]
     },
     "execution_count": 9,
     "metadata": {},
     "output_type": "execute_result"
    }
   ],
   "source": [
    "# check metadata\n",
    "mdata = pd.read_csv(meta_file_path)\n",
    "mdata"
   ]
  },
  {
   "cell_type": "code",
   "execution_count": 10,
   "metadata": {},
   "outputs": [
    {
     "data": {
      "text/plain": [
       "(731, 17300)"
      ]
     },
     "execution_count": 10,
     "metadata": {},
     "output_type": "execute_result"
    }
   ],
   "source": [
    "# # convert to anndata object\n",
    "# csv = pd.read_csv('/mnt/nfs/home/jasonyeung/cHL_EBV/EBV_chl_batchcorrected-CPM-nNCGH_1500-K_11.csv', index_col=0).transpose()\n",
    "# adata = anndata.AnnData(csv)\n",
    "# adata.write_h5ad('/mnt/nfs/home/jasonyeung/cHL_EBV/run_cellphonedb/batchcorrected_counts.h5ad')\n",
    "\n",
    "adata = anndata.read_h5ad(counts_file_path)\n",
    "adata.shape"
   ]
  },
  {
   "cell_type": "code",
   "execution_count": 11,
   "metadata": {},
   "outputs": [
    {
     "data": {
      "text/plain": [
       "True"
      ]
     },
     "execution_count": 11,
     "metadata": {},
     "output_type": "execute_result"
    }
   ],
   "source": [
    "# check mdata and counts\n",
    "sorted(list(adata.obs.index)) == sorted(list(mdata['Cell']))"
   ]
  },
  {
   "cell_type": "code",
   "execution_count": 12,
   "metadata": {},
   "outputs": [
    {
     "data": {
      "text/html": [
       "<div>\n",
       "<style scoped>\n",
       "    .dataframe tbody tr th:only-of-type {\n",
       "        vertical-align: middle;\n",
       "    }\n",
       "\n",
       "    .dataframe tbody tr th {\n",
       "        vertical-align: top;\n",
       "    }\n",
       "\n",
       "    .dataframe thead th {\n",
       "        text-align: right;\n",
       "    }\n",
       "</style>\n",
       "<table border=\"1\" class=\"dataframe\">\n",
       "  <thead>\n",
       "    <tr style=\"text-align: right;\">\n",
       "      <th></th>\n",
       "      <th>cell_type</th>\n",
       "      <th>microenvironment</th>\n",
       "    </tr>\n",
       "  </thead>\n",
       "  <tbody>\n",
       "    <tr>\n",
       "      <th>0</th>\n",
       "      <td>EBV+_Tumor</td>\n",
       "      <td>EBV+</td>\n",
       "    </tr>\n",
       "    <tr>\n",
       "      <th>1</th>\n",
       "      <td>EBV+_CD4mem</td>\n",
       "      <td>EBV+</td>\n",
       "    </tr>\n",
       "    <tr>\n",
       "      <th>2</th>\n",
       "      <td>EBV+_CD4naive</td>\n",
       "      <td>EBV+</td>\n",
       "    </tr>\n",
       "    <tr>\n",
       "      <th>3</th>\n",
       "      <td>EBV+_CD8mem</td>\n",
       "      <td>EBV+</td>\n",
       "    </tr>\n",
       "    <tr>\n",
       "      <th>4</th>\n",
       "      <td>EBV+_CD8naive</td>\n",
       "      <td>EBV+</td>\n",
       "    </tr>\n",
       "    <tr>\n",
       "      <th>5</th>\n",
       "      <td>EBV+_Other</td>\n",
       "      <td>EBV+</td>\n",
       "    </tr>\n",
       "    <tr>\n",
       "      <th>6</th>\n",
       "      <td>EBV-_Tumor</td>\n",
       "      <td>EBV-</td>\n",
       "    </tr>\n",
       "    <tr>\n",
       "      <th>7</th>\n",
       "      <td>EBV-_CD4mem</td>\n",
       "      <td>EBV-</td>\n",
       "    </tr>\n",
       "    <tr>\n",
       "      <th>8</th>\n",
       "      <td>EBV-_CD4naive</td>\n",
       "      <td>EBV-</td>\n",
       "    </tr>\n",
       "    <tr>\n",
       "      <th>9</th>\n",
       "      <td>EBV-_CD8mem</td>\n",
       "      <td>EBV-</td>\n",
       "    </tr>\n",
       "    <tr>\n",
       "      <th>10</th>\n",
       "      <td>EBV-_CD8naive</td>\n",
       "      <td>EBV-</td>\n",
       "    </tr>\n",
       "    <tr>\n",
       "      <th>11</th>\n",
       "      <td>EBV-_Other</td>\n",
       "      <td>EBV-</td>\n",
       "    </tr>\n",
       "  </tbody>\n",
       "</table>\n",
       "</div>"
      ],
      "text/plain": [
       "        cell_type microenvironment\n",
       "0      EBV+_Tumor             EBV+\n",
       "1     EBV+_CD4mem             EBV+\n",
       "2   EBV+_CD4naive             EBV+\n",
       "3     EBV+_CD8mem             EBV+\n",
       "4   EBV+_CD8naive             EBV+\n",
       "5      EBV+_Other             EBV+\n",
       "6      EBV-_Tumor             EBV-\n",
       "7     EBV-_CD4mem             EBV-\n",
       "8   EBV-_CD4naive             EBV-\n",
       "9     EBV-_CD8mem             EBV-\n",
       "10  EBV-_CD8naive             EBV-\n",
       "11     EBV-_Other             EBV-"
      ]
     },
     "execution_count": 12,
     "metadata": {},
     "output_type": "execute_result"
    }
   ],
   "source": [
    "# check microenvironments\n",
    "microenv = pd.read_csv(microenvs_file_path)\n",
    "microenv"
   ]
  },
  {
   "cell_type": "code",
   "execution_count": 13,
   "metadata": {},
   "outputs": [
    {
     "data": {
      "text/plain": [
       "microenvironment\n",
       "EBV+    [EBV+_Tumor, EBV+_CD4mem, EBV+_CD4naive, EBV+_...\n",
       "EBV-    [EBV-_Tumor, EBV-_CD4mem, EBV-_CD4naive, EBV-_...\n",
       "Name: cell_type, dtype: object"
      ]
     },
     "execution_count": 13,
     "metadata": {},
     "output_type": "execute_result"
    }
   ],
   "source": [
    "microenv.groupby('microenvironment', group_keys = False)['cell_type'].apply(lambda x : list(x.value_counts().index))"
   ]
  },
  {
   "cell_type": "code",
   "execution_count": 15,
   "metadata": {},
   "outputs": [
    {
     "name": "stdout",
     "output_type": "stream",
     "text": [
      "Reading user files...\n",
      "The following user files were loaded successfully:\n",
      "/mnt/nfs/home/jasonyeung/cHL_EBV/run_cellphonedb/batchcorrected_counts.h5ad\n",
      "/mnt/nfs/home/jasonyeung/cHL_EBV/run_cellphonedb/mdata.csv\n",
      "/mnt/nfs/home/jasonyeung/cHL_EBV/run_cellphonedb/microenvs.csv\n",
      "[ ][CORE][12/06/24-11:29:37][INFO] [Cluster Statistical Analysis] Threshold:0.1 Iterations:1000 Debug-seed:42 Threads:4 Precision:3\n",
      "[ ][CORE][12/06/24-11:29:37][WARNING] Debug random seed enabled. Set to 42\n",
      "[ ][CORE][12/06/24-11:29:37][INFO] Running Real Analysis\n",
      "[ ][CORE][12/06/24-11:29:37][INFO] Limiting cluster combinations using microenvironments\n",
      "[ ][CORE][12/06/24-11:29:37][INFO] Running Statistical Analysis\n"
     ]
    },
    {
     "name": "stderr",
     "output_type": "stream",
     "text": [
      "100%|██████████| 1000/1000 [00:06<00:00, 154.84it/s]"
     ]
    },
    {
     "name": "stdout",
     "output_type": "stream",
     "text": [
      "[ ][CORE][12/06/24-11:29:43][INFO] Building Pvalues result\n"
     ]
    },
    {
     "name": "stderr",
     "output_type": "stream",
     "text": [
      "\n"
     ]
    },
    {
     "name": "stdout",
     "output_type": "stream",
     "text": [
      "[ ][CORE][12/06/24-11:29:44][INFO] Building results\n",
      "Saved deconvoluted to /mnt/nfs/home/jasonyeung/cHL_EBV/run_cellphonedb/outputs/statistical_analysis_deconvoluted_06_12_2024_112944.txt\n",
      "Saved deconvoluted_percents to /mnt/nfs/home/jasonyeung/cHL_EBV/run_cellphonedb/outputs/statistical_analysis_deconvoluted_percents_06_12_2024_112944.txt\n",
      "Saved means to /mnt/nfs/home/jasonyeung/cHL_EBV/run_cellphonedb/outputs/statistical_analysis_means_06_12_2024_112944.txt\n",
      "Saved pvalues to /mnt/nfs/home/jasonyeung/cHL_EBV/run_cellphonedb/outputs/statistical_analysis_pvalues_06_12_2024_112944.txt\n",
      "Saved significant_means to /mnt/nfs/home/jasonyeung/cHL_EBV/run_cellphonedb/outputs/statistical_analysis_significant_means_06_12_2024_112944.txt\n"
     ]
    }
   ],
   "source": [
    "from cellphonedb.src.core.methods import cpdb_statistical_analysis_method\n",
    "\n",
    "cpdb_results = cpdb_statistical_analysis_method.call(\n",
    "    cpdb_file_path = cpdb_file_path,                 # mandatory: CellPhoneDB database zip file.\n",
    "    meta_file_path = meta_file_path,                 # mandatory: tsv file defining barcodes to cell label.\n",
    "    counts_file_path = counts_file_path,             # mandatory: normalized count matrix.\n",
    "    counts_data = 'gene_name',                       # defines the gene annotation in counts matrix.\n",
    "    microenvs_file_path = microenvs_file_path,       # optional (default: None): defines cells per microenvironment.\n",
    "    iterations = 1000,                               # denotes the number of shufflings performed in the analysis.\n",
    "    threshold = 0.1,                                 # defines the min % of cells expressing a gene for this to be employed in the analysis.\n",
    "    threads = 4,                                     # number of threads to use in the analysis.\n",
    "    debug_seed = 42,                                 # debug randome seed. To disable >=0.\n",
    "    result_precision = 3,                            # Sets the rounding for the mean values in significan_means.\n",
    "    pvalue = 0.05,                                   # P-value threshold to employ for significance.\n",
    "    subsampling = False,                             # To enable subsampling the data (geometri sketching).\n",
    "    subsampling_log = False,                         # (mandatory) enable subsampling log1p for non log-transformed data inputs.\n",
    "    subsampling_num_pc = 100,                        # Number of componets to subsample via geometric skectching (dafault: 100).\n",
    "    subsampling_num_cells = 1000,                    # Number of cells to subsample (integer) (default: 1/3 of the dataset).\n",
    "    separator = '|',                                 # Sets the string to employ to separate cells in the results dataframes \"cellA|CellB\".\n",
    "    debug = False,                                   # Saves all intermediate tables employed during the analysis in pkl format.\n",
    "    output_path = out_path,                          # Path to save results.\n",
    "    output_suffix = None                             # Replaces the timestamp in the output files by a user defined string in the  (default: None).\n",
    "    )"
   ]
  },
  {
   "cell_type": "markdown",
   "metadata": {},
   "source": [
    "### **pvalue fields**\n",
    "- **id_cp_interaction**: interaction identifier.\n",
    "- **interacting_pair**: Name of the interacting pairs separated by separator (default : \"|\").\n",
    "- **partner A/B**: Identifier for the first interacting partner (A) or the second (B). It could be: UniProt (prefix simple:) or complex (prefix complex:)\n",
    "- **gene A/B**: Gene identifier for the first interacting partner (A) or the second (B).\n",
    "- **secreted**: True if one of the partners is secreted.\n",
    "- **receptor A/B**: True if the first interacting partner (A) or the second (B) is annotated as a receptor in our database.\n",
    "- **annotation_strategy**: Curated if the interaction was annotated by the CellPhoneDB developers. Other value if it was added by the user.\n",
    "- **is_integrin**: True if one of the partners is integrin.\n",
    "- **cell_a|cell_b**: p-value obtained by random shuffling.\n",
    "\n",
    "### **deconvoluted fields**\n",
    "- **gene_name**: Gene identifier for one of the subunits that are participating in the interaction defined in “means.csv” file. The identifier will depend on the input of the user list.\n",
    "- **uniprot**: UniProt identifier for one of the subunits that are participating in the interaction defined in “means.csv” file.\n",
    "- **is_complex**: True if the subunit is part of a complex. Single if it is not, complex if it is.\n",
    "- **protein_name**: Protein name for one of the subunits that are participating in the interaction defined in “means.csv” file.\n",
    "- **complex_name**: Complex name if the subunit is part of a complex. Empty if not.\n",
    "- **id_cp_interaction**: Unique CellPhoneDB identifier for each of the interactions stored in the database.\n",
    "- **mean**: Mean expression of the corresponding gene in each cluster.\n",
    "\n",
    "### **means fields**\n",
    "- **id_cp_interaction**: Unique CellPhoneDB identifier for each interaction stored in the database.\n",
    "- **interacting_pair**: Name of the interacting pairs separated by “|”.\n",
    "- **partner A or B**: Identifier for the first interacting partner (A) or the second (B). It could be: UniProt (prefix simple:) or complex (prefix complex:)\n",
    "- **gene A or B**: Gene identifier for the first interacting partner (A) or the second (B). The identifier will depend on the input user list.\n",
    "- **secreted**: True if one of the partners is secreted.\n",
    "- **Receptor A or B**: True if the first interacting partner (A) or the second (B) is annotated as a receptor in our database.\n",
    "- **annotation_strategy**: Curated if the interaction was annotated by the CellPhoneDB developers. Otherwise, the name of the database where the interaction has been downloaded from.\n",
    "- **is_integrin**: True if one of the partners is integrin.\n",
    "- **means**: Mean values for all the interacting partners: mean value refers to the total mean of the individual partner average expression values in the corresponding interacting pairs of cell types. If one of the mean values is 0, then the total mean is set to 0.\n",
    "\n",
    "### **significant means fields**\n",
    "- **id_cp_interaction**: Unique CellPhoneDB identifier for each interaction stored in the database.\n",
    "- **interacting_pair**: Name of the interacting pairs separated by “|”.\n",
    "- **partner A or B**: Identifier for the first interacting partner (A) or the second (B). It could be: UniProt (prefix simple:) or complex (prefix complex:)\n",
    "- **gene A or B**: Gene identifier for the first interacting partner (A) or the second (B). The identifier will depend on the input user list.\n",
    "- **secreted**: True if one of the partners is secreted.\n",
    "- **Receptor A or B**: True if the first interacting partner (A) or the second (B) is annotated as a receptor in our database.\n",
    "- **annotation_strategy**: Curated if the interaction was annotated by the CellPhoneDB developers. Otherwise, the name of the database where the interaction has been downloaded from.\n",
    "- **is_integrin**: True if one of the partners is integrin.\n",
    "- **significant_mean**: Significant mean calculation for all the interacting partners. If the interaction has been found relevant, the value will be the mean. Alternatively, the value is set to 0."
   ]
  },
  {
   "cell_type": "code",
   "execution_count": null,
   "metadata": {},
   "outputs": [],
   "source": [
    "pvalues.head()"
   ]
  },
  {
   "cell_type": "code",
   "execution_count": null,
   "metadata": {},
   "outputs": [],
   "source": [
    "deconvoluted.head()"
   ]
  },
  {
   "cell_type": "code",
   "execution_count": null,
   "metadata": {},
   "outputs": [],
   "source": [
    "means.head()"
   ]
  },
  {
   "cell_type": "code",
   "execution_count": null,
   "metadata": {},
   "outputs": [],
   "source": [
    "significant_means.head()"
   ]
  },
  {
   "cell_type": "code",
   "execution_count": null,
   "metadata": {},
   "outputs": [],
   "source": [
    "# can ignore this, did plotting/querying in R\n",
    "from cellphonedb.utils import search_utils\n",
    "\n",
    "search_results = search_utils.search_analysis_results(\n",
    "    query_cell_types_1 = 'All',  # List of cells 1, will be paired to cells 2 (list or 'All').\n",
    "    query_cell_types_2 = 'All',     # List of cells 2, will be paired to cells 1 (list or 'All').\n",
    "    # query_genes = ['TGFBR1'],                                       # filter interactions based on the genes participating (list).\n",
    "    # query_interactions = ['CSF1_CSF1R'],                            # filter intereactions based on their name (list).\n",
    "    significant_means = significant_means,                          # significant_means file generated by CellPhoneDB.\n",
    "    deconvoluted = deconvoluted,                                    # deconvoluted file generated by CellPhoneDB.\n",
    "    separator = '|',                                                # separator (default: |) employed to split cells (cellA|cellB).\n",
    "    long_format = True                                              # converts the output into a wide table, removing non-significant interactions\n",
    ")\n",
    "\n",
    "search_results"
   ]
  },
  {
   "cell_type": "code",
   "execution_count": null,
   "metadata": {},
   "outputs": [],
   "source": [
    "import ktplotspy as kpy\n",
    "\n",
    "# this thing just shows total # of significant interactions, not that useful\n",
    "\n",
    "kpy.plot_cpdb_heatmap(\n",
    "    pvals=pvalues,\n",
    "    figsize=(5, 5),\n",
    "    title=\"Sum of significant interactions\",\n",
    "    symmetrical=False,\n",
    ")"
   ]
  },
  {
   "cell_type": "code",
   "execution_count": null,
   "metadata": {},
   "outputs": [],
   "source": []
  }
 ],
 "metadata": {
  "kernelspec": {
   "display_name": "Python 3",
   "language": "python",
   "name": "python3"
  },
  "language_info": {
   "codemirror_mode": {
    "name": "ipython",
    "version": 3
   },
   "file_extension": ".py",
   "mimetype": "text/x-python",
   "name": "python",
   "nbconvert_exporter": "python",
   "pygments_lexer": "ipython3",
   "version": "3.8.18"
  }
 },
 "nbformat": 4,
 "nbformat_minor": 2
}
